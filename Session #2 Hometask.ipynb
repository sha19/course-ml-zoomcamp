{
 "cells": [
  {
   "cell_type": "code",
   "execution_count": 1,
   "id": "583278e1",
   "metadata": {},
   "outputs": [],
   "source": [
    "#Session 2: Machine Learning for Regression\n",
    "# we will use the California Housing Prices from Kaggle\n",
    "# wget https://raw.githubusercontent.com/alexeygrigorev/datasets/master/housing.csv"
   ]
  },
  {
   "cell_type": "code",
   "execution_count": null,
   "id": "7bdca646",
   "metadata": {},
   "outputs": [],
   "source": [
    "1. Data Preparation"
   ]
  },
  {
   "cell_type": "code",
   "execution_count": 2,
   "id": "77adeab7",
   "metadata": {},
   "outputs": [],
   "source": [
    "dataset_url = 'https://raw.githubusercontent.com/alexeygrigorev/datasets/master/housing.csv'"
   ]
  },
  {
   "cell_type": "code",
   "execution_count": null,
   "id": "f2e6b41c",
   "metadata": {},
   "outputs": [],
   "source": [
    "!wget $dataset_url"
   ]
  },
  {
   "cell_type": "code",
   "execution_count": 3,
   "id": "5fd647e1",
   "metadata": {},
   "outputs": [],
   "source": [
    "import numpy as np\n",
    "import pandas as pd\n",
    "\n",
    "#we can use 2 libraries for data visualization whith plotting\n",
    "import matplotlib.pyplot as plt\n",
    "import seaborn as sns\n",
    "\n",
    "#to make sure all the plots can be displayed on the notebook\n",
    "%matplotlib inline"
   ]
  },
  {
   "cell_type": "code",
   "execution_count": 4,
   "id": "f6e1ec95",
   "metadata": {},
   "outputs": [
    {
     "data": {
      "text/html": [
       "<div>\n",
       "<style scoped>\n",
       "    .dataframe tbody tr th:only-of-type {\n",
       "        vertical-align: middle;\n",
       "    }\n",
       "\n",
       "    .dataframe tbody tr th {\n",
       "        vertical-align: top;\n",
       "    }\n",
       "\n",
       "    .dataframe thead th {\n",
       "        text-align: right;\n",
       "    }\n",
       "</style>\n",
       "<table border=\"1\" class=\"dataframe\">\n",
       "  <thead>\n",
       "    <tr style=\"text-align: right;\">\n",
       "      <th></th>\n",
       "      <th>longitude</th>\n",
       "      <th>latitude</th>\n",
       "      <th>housing_median_age</th>\n",
       "      <th>total_rooms</th>\n",
       "      <th>total_bedrooms</th>\n",
       "      <th>population</th>\n",
       "      <th>households</th>\n",
       "      <th>median_income</th>\n",
       "      <th>median_house_value</th>\n",
       "      <th>ocean_proximity</th>\n",
       "    </tr>\n",
       "  </thead>\n",
       "  <tbody>\n",
       "    <tr>\n",
       "      <th>0</th>\n",
       "      <td>-122.23</td>\n",
       "      <td>37.88</td>\n",
       "      <td>41.0</td>\n",
       "      <td>880.0</td>\n",
       "      <td>129.0</td>\n",
       "      <td>322.0</td>\n",
       "      <td>126.0</td>\n",
       "      <td>8.3252</td>\n",
       "      <td>452600.0</td>\n",
       "      <td>NEAR BAY</td>\n",
       "    </tr>\n",
       "    <tr>\n",
       "      <th>1</th>\n",
       "      <td>-122.22</td>\n",
       "      <td>37.86</td>\n",
       "      <td>21.0</td>\n",
       "      <td>7099.0</td>\n",
       "      <td>1106.0</td>\n",
       "      <td>2401.0</td>\n",
       "      <td>1138.0</td>\n",
       "      <td>8.3014</td>\n",
       "      <td>358500.0</td>\n",
       "      <td>NEAR BAY</td>\n",
       "    </tr>\n",
       "    <tr>\n",
       "      <th>2</th>\n",
       "      <td>-122.24</td>\n",
       "      <td>37.85</td>\n",
       "      <td>52.0</td>\n",
       "      <td>1467.0</td>\n",
       "      <td>190.0</td>\n",
       "      <td>496.0</td>\n",
       "      <td>177.0</td>\n",
       "      <td>7.2574</td>\n",
       "      <td>352100.0</td>\n",
       "      <td>NEAR BAY</td>\n",
       "    </tr>\n",
       "    <tr>\n",
       "      <th>3</th>\n",
       "      <td>-122.25</td>\n",
       "      <td>37.85</td>\n",
       "      <td>52.0</td>\n",
       "      <td>1274.0</td>\n",
       "      <td>235.0</td>\n",
       "      <td>558.0</td>\n",
       "      <td>219.0</td>\n",
       "      <td>5.6431</td>\n",
       "      <td>341300.0</td>\n",
       "      <td>NEAR BAY</td>\n",
       "    </tr>\n",
       "    <tr>\n",
       "      <th>4</th>\n",
       "      <td>-122.25</td>\n",
       "      <td>37.85</td>\n",
       "      <td>52.0</td>\n",
       "      <td>1627.0</td>\n",
       "      <td>280.0</td>\n",
       "      <td>565.0</td>\n",
       "      <td>259.0</td>\n",
       "      <td>3.8462</td>\n",
       "      <td>342200.0</td>\n",
       "      <td>NEAR BAY</td>\n",
       "    </tr>\n",
       "    <tr>\n",
       "      <th>...</th>\n",
       "      <td>...</td>\n",
       "      <td>...</td>\n",
       "      <td>...</td>\n",
       "      <td>...</td>\n",
       "      <td>...</td>\n",
       "      <td>...</td>\n",
       "      <td>...</td>\n",
       "      <td>...</td>\n",
       "      <td>...</td>\n",
       "      <td>...</td>\n",
       "    </tr>\n",
       "    <tr>\n",
       "      <th>20635</th>\n",
       "      <td>-121.09</td>\n",
       "      <td>39.48</td>\n",
       "      <td>25.0</td>\n",
       "      <td>1665.0</td>\n",
       "      <td>374.0</td>\n",
       "      <td>845.0</td>\n",
       "      <td>330.0</td>\n",
       "      <td>1.5603</td>\n",
       "      <td>78100.0</td>\n",
       "      <td>INLAND</td>\n",
       "    </tr>\n",
       "    <tr>\n",
       "      <th>20636</th>\n",
       "      <td>-121.21</td>\n",
       "      <td>39.49</td>\n",
       "      <td>18.0</td>\n",
       "      <td>697.0</td>\n",
       "      <td>150.0</td>\n",
       "      <td>356.0</td>\n",
       "      <td>114.0</td>\n",
       "      <td>2.5568</td>\n",
       "      <td>77100.0</td>\n",
       "      <td>INLAND</td>\n",
       "    </tr>\n",
       "    <tr>\n",
       "      <th>20637</th>\n",
       "      <td>-121.22</td>\n",
       "      <td>39.43</td>\n",
       "      <td>17.0</td>\n",
       "      <td>2254.0</td>\n",
       "      <td>485.0</td>\n",
       "      <td>1007.0</td>\n",
       "      <td>433.0</td>\n",
       "      <td>1.7000</td>\n",
       "      <td>92300.0</td>\n",
       "      <td>INLAND</td>\n",
       "    </tr>\n",
       "    <tr>\n",
       "      <th>20638</th>\n",
       "      <td>-121.32</td>\n",
       "      <td>39.43</td>\n",
       "      <td>18.0</td>\n",
       "      <td>1860.0</td>\n",
       "      <td>409.0</td>\n",
       "      <td>741.0</td>\n",
       "      <td>349.0</td>\n",
       "      <td>1.8672</td>\n",
       "      <td>84700.0</td>\n",
       "      <td>INLAND</td>\n",
       "    </tr>\n",
       "    <tr>\n",
       "      <th>20639</th>\n",
       "      <td>-121.24</td>\n",
       "      <td>39.37</td>\n",
       "      <td>16.0</td>\n",
       "      <td>2785.0</td>\n",
       "      <td>616.0</td>\n",
       "      <td>1387.0</td>\n",
       "      <td>530.0</td>\n",
       "      <td>2.3886</td>\n",
       "      <td>89400.0</td>\n",
       "      <td>INLAND</td>\n",
       "    </tr>\n",
       "  </tbody>\n",
       "</table>\n",
       "<p>20640 rows × 10 columns</p>\n",
       "</div>"
      ],
      "text/plain": [
       "       longitude  latitude  housing_median_age  total_rooms  total_bedrooms  \\\n",
       "0        -122.23     37.88                41.0        880.0           129.0   \n",
       "1        -122.22     37.86                21.0       7099.0          1106.0   \n",
       "2        -122.24     37.85                52.0       1467.0           190.0   \n",
       "3        -122.25     37.85                52.0       1274.0           235.0   \n",
       "4        -122.25     37.85                52.0       1627.0           280.0   \n",
       "...          ...       ...                 ...          ...             ...   \n",
       "20635    -121.09     39.48                25.0       1665.0           374.0   \n",
       "20636    -121.21     39.49                18.0        697.0           150.0   \n",
       "20637    -121.22     39.43                17.0       2254.0           485.0   \n",
       "20638    -121.32     39.43                18.0       1860.0           409.0   \n",
       "20639    -121.24     39.37                16.0       2785.0           616.0   \n",
       "\n",
       "       population  households  median_income  median_house_value  \\\n",
       "0           322.0       126.0         8.3252            452600.0   \n",
       "1          2401.0      1138.0         8.3014            358500.0   \n",
       "2           496.0       177.0         7.2574            352100.0   \n",
       "3           558.0       219.0         5.6431            341300.0   \n",
       "4           565.0       259.0         3.8462            342200.0   \n",
       "...           ...         ...            ...                 ...   \n",
       "20635       845.0       330.0         1.5603             78100.0   \n",
       "20636       356.0       114.0         2.5568             77100.0   \n",
       "20637      1007.0       433.0         1.7000             92300.0   \n",
       "20638       741.0       349.0         1.8672             84700.0   \n",
       "20639      1387.0       530.0         2.3886             89400.0   \n",
       "\n",
       "      ocean_proximity  \n",
       "0            NEAR BAY  \n",
       "1            NEAR BAY  \n",
       "2            NEAR BAY  \n",
       "3            NEAR BAY  \n",
       "4            NEAR BAY  \n",
       "...               ...  \n",
       "20635          INLAND  \n",
       "20636          INLAND  \n",
       "20637          INLAND  \n",
       "20638          INLAND  \n",
       "20639          INLAND  \n",
       "\n",
       "[20640 rows x 10 columns]"
      ]
     },
     "execution_count": 4,
     "metadata": {},
     "output_type": "execute_result"
    }
   ],
   "source": [
    "#Getting the data\n",
    "df = pd.read_csv(\"housing.csv\")\n",
    "df"
   ]
  },
  {
   "cell_type": "code",
   "execution_count": 5,
   "id": "dd499c51",
   "metadata": {},
   "outputs": [
    {
     "data": {
      "text/plain": [
       "Index(['longitude', 'latitude', 'housing_median_age', 'total_rooms',\n",
       "       'total_bedrooms', 'population', 'households', 'median_income',\n",
       "       'median_house_value', 'ocean_proximity'],\n",
       "      dtype='object')"
      ]
     },
     "execution_count": 5,
     "metadata": {},
     "output_type": "execute_result"
    }
   ],
   "source": [
    "df.columns"
   ]
  },
  {
   "cell_type": "code",
   "execution_count": 6,
   "id": "94dcac24",
   "metadata": {},
   "outputs": [
    {
     "data": {
      "text/plain": [
       "longitude             float64\n",
       "latitude              float64\n",
       "housing_median_age    float64\n",
       "total_rooms           float64\n",
       "total_bedrooms        float64\n",
       "population            float64\n",
       "households            float64\n",
       "median_income         float64\n",
       "median_house_value    float64\n",
       "ocean_proximity        object\n",
       "dtype: object"
      ]
     },
     "execution_count": 6,
     "metadata": {},
     "output_type": "execute_result"
    }
   ],
   "source": [
    "df.dtypes"
   ]
  },
  {
   "cell_type": "code",
   "execution_count": 8,
   "id": "e33877b6",
   "metadata": {},
   "outputs": [
    {
     "name": "stdout",
     "output_type": "stream",
     "text": [
      "longitude\n",
      "0   -122.23\n",
      "1   -122.22\n",
      "2   -122.24\n",
      "3   -122.25\n",
      "4   -122.25\n",
      "Name: longitude, dtype: float64 \n",
      "\n",
      "latitude\n",
      "0    37.88\n",
      "1    37.86\n",
      "2    37.85\n",
      "3    37.85\n",
      "4    37.85\n",
      "Name: latitude, dtype: float64 \n",
      "\n",
      "housing_median_age\n",
      "0    41.0\n",
      "1    21.0\n",
      "2    52.0\n",
      "3    52.0\n",
      "4    52.0\n",
      "Name: housing_median_age, dtype: float64 \n",
      "\n",
      "total_rooms\n",
      "0     880.0\n",
      "1    7099.0\n",
      "2    1467.0\n",
      "3    1274.0\n",
      "4    1627.0\n",
      "Name: total_rooms, dtype: float64 \n",
      "\n",
      "total_bedrooms\n",
      "0     129.0\n",
      "1    1106.0\n",
      "2     190.0\n",
      "3     235.0\n",
      "4     280.0\n",
      "Name: total_bedrooms, dtype: float64 \n",
      "\n",
      "population\n",
      "0     322.0\n",
      "1    2401.0\n",
      "2     496.0\n",
      "3     558.0\n",
      "4     565.0\n",
      "Name: population, dtype: float64 \n",
      "\n",
      "households\n",
      "0     126.0\n",
      "1    1138.0\n",
      "2     177.0\n",
      "3     219.0\n",
      "4     259.0\n",
      "Name: households, dtype: float64 \n",
      "\n",
      "median_income\n",
      "0    8.3252\n",
      "1    8.3014\n",
      "2    7.2574\n",
      "3    5.6431\n",
      "4    3.8462\n",
      "Name: median_income, dtype: float64 \n",
      "\n",
      "median_house_value\n",
      "0    452600.0\n",
      "1    358500.0\n",
      "2    352100.0\n",
      "3    341300.0\n",
      "4    342200.0\n",
      "Name: median_house_value, dtype: float64 \n",
      "\n",
      "ocean_proximity\n",
      "0    NEAR BAY\n",
      "1    NEAR BAY\n",
      "2    NEAR BAY\n",
      "3    NEAR BAY\n",
      "4    NEAR BAY\n",
      "Name: ocean_proximity, dtype: object \n",
      "\n"
     ]
    }
   ],
   "source": [
    "#we can get data statistics for each column\n",
    "for col in df.columns:\n",
    "    print(col)\n",
    "    print(df[col].head(),'\\n')"
   ]
  },
  {
   "cell_type": "code",
   "execution_count": 9,
   "id": "6d64cdec",
   "metadata": {},
   "outputs": [
    {
     "name": "stdout",
     "output_type": "stream",
     "text": [
      "longitude\n",
      "[-122.23 -122.22 -122.24 -122.25 -122.26]\n",
      "844 \n",
      "\n",
      "latitude\n",
      "[37.88 37.86 37.85 37.84 37.83]\n",
      "862 \n",
      "\n",
      "housing_median_age\n",
      "[41. 21. 52. 42. 50.]\n",
      "52 \n",
      "\n",
      "total_rooms\n",
      "[ 880. 7099. 1467. 1274. 1627.]\n",
      "5926 \n",
      "\n",
      "total_bedrooms\n",
      "[ 129. 1106.  190.  235.  280.]\n",
      "1923 \n",
      "\n",
      "population\n",
      "[ 322. 2401.  496.  558.  565.]\n",
      "3888 \n",
      "\n",
      "households\n",
      "[ 126. 1138.  177.  219.  259.]\n",
      "1815 \n",
      "\n",
      "median_income\n",
      "[8.3252 8.3014 7.2574 5.6431 3.8462]\n",
      "12928 \n",
      "\n",
      "median_house_value\n",
      "[452600. 358500. 352100. 341300. 342200.]\n",
      "3842 \n",
      "\n",
      "ocean_proximity\n",
      "['NEAR BAY' '<1H OCEAN' 'INLAND' 'NEAR OCEAN' 'ISLAND']\n",
      "5 \n",
      "\n"
     ]
    }
   ],
   "source": [
    "#we can get first 5 (from 0-th element to 4-th element) unique values for each object of dataframe\n",
    "for col in df.columns:\n",
    "    print(col)\n",
    "    print(df[col].unique()[:5])\n",
    "    print(df[col].nunique(),'\\n') #here we get the number of unique values for each column"
   ]
  },
  {
   "cell_type": "code",
   "execution_count": null,
   "id": "330df9ec",
   "metadata": {},
   "outputs": [],
   "source": []
  },
  {
   "cell_type": "code",
   "execution_count": 10,
   "id": "12f90bfa",
   "metadata": {},
   "outputs": [
    {
     "name": "stderr",
     "output_type": "stream",
     "text": [
      "/tmp/ipykernel_8143/740686974.py:3: UserWarning: To output multiple subplots, the figure containing the passed axes is being cleared.\n",
      "  df.hist(bins=50, ax=ax, layout=(3,3), column=df.columns.to_list())\n"
     ]
    },
    {
     "data": {
      "image/png": "[encoded data removed]",
      "text/plain": [
       "<Figure size 1080x720 with 9 Axes>"
      ]
     },
     "metadata": {
      "needs_background": "light"
     },
     "output_type": "display_data"
    }
   ],
   "source": [
    "fig = plt.figure(figsize=(15,10))\n",
    "ax = plt.gca()\n",
    "df.hist(bins=50, ax=ax, layout=(3,3), column=df.columns.to_list())\n",
    "plt.tight_layout()\n",
    "plt.show()"
   ]
  },
  {
   "cell_type": "code",
   "execution_count": 13,
   "id": "e0fd1574",
   "metadata": {},
   "outputs": [
    {
     "data": {
      "text/plain": [
       "<AxesSubplot:xlabel='median_house_value', ylabel='Count'>"
      ]
     },
     "execution_count": 13,
     "metadata": {},
     "output_type": "execute_result"
    },
    {
     "data": {
      "image/png": "[encoded data removed]",
      "text/plain": [
       "<Figure size 432x288 with 1 Axes>"
      ]
     },
     "metadata": {
      "needs_background": "light"
     },
     "output_type": "display_data"
    }
   ],
   "source": [
    "#we want to look at the distribution of housing prices\n",
    "# to draw a histogram\n",
    "sns.histplot(df.median_house_value, bins=100)"
   ]
  },
  {
   "cell_type": "code",
   "execution_count": 11,
   "id": "582b978d",
   "metadata": {},
   "outputs": [
    {
     "name": "stderr",
     "output_type": "stream",
     "text": [
      "/home/wazer/anaconda3/envs/mlops-zoomcamp-course/lib/python3.9/site-packages/seaborn/distributions.py:2619: FutureWarning: `distplot` is a deprecated function and will be removed in a future version. Please adapt your code to use either `displot` (a figure-level function with similar flexibility) or `histplot` (an axes-level function for histograms).\n",
      "  warnings.warn(msg, FutureWarning)\n"
     ]
    },
    {
     "data": {
      "text/plain": [
       "<AxesSubplot:xlabel='median_house_value', ylabel='Density'>"
      ]
     },
     "execution_count": 11,
     "metadata": {},
     "output_type": "execute_result"
    },
    {
     "data": {
      "image/png": "[encoded data removed]",
      "text/plain": [
       "<Figure size 432x288 with 1 Axes>"
      ]
     },
     "metadata": {
      "needs_background": "light"
     },
     "output_type": "display_data"
    }
   ],
   "source": [
    "sns.distplot(df.median_house_value, bins=100)"
   ]
  },
  {
   "cell_type": "code",
   "execution_count": null,
   "id": "e58328d8",
   "metadata": {},
   "outputs": [],
   "source": [
    "#as we can see the distribution of 'median_house_value' has a long tail (at least it is not quite normal)\n",
    "# so one can apply the logarithmic function to 'median_house_value'\n",
    "# to make it close to normal distribution"
   ]
  },
  {
   "cell_type": "code",
   "execution_count": 12,
   "id": "808a2605",
   "metadata": {},
   "outputs": [
    {
     "name": "stderr",
     "output_type": "stream",
     "text": [
      "/home/wazer/anaconda3/envs/mlops-zoomcamp-course/lib/python3.9/site-packages/seaborn/distributions.py:2619: FutureWarning: `distplot` is a deprecated function and will be removed in a future version. Please adapt your code to use either `displot` (a figure-level function with similar flexibility) or `histplot` (an axes-level function for histograms).\n",
      "  warnings.warn(msg, FutureWarning)\n"
     ]
    },
    {
     "data": {
      "text/plain": [
       "<AxesSubplot:xlabel='median_house_value', ylabel='Density'>"
      ]
     },
     "execution_count": 12,
     "metadata": {},
     "output_type": "execute_result"
    },
    {
     "data": {
      "image/png": "[encoded data removed]",
      "text/plain": [
       "<Figure size 432x288 with 1 Axes>"
      ]
     },
     "metadata": {
      "needs_background": "light"
     },
     "output_type": "display_data"
    }
   ],
   "source": [
    "sns.distplot(np.log1p(df.median_house_value), bins=100)"
   ]
  },
  {
   "cell_type": "code",
   "execution_count": null,
   "id": "b6e7bea1",
   "metadata": {},
   "outputs": [],
   "source": []
  },
  {
   "cell_type": "code",
   "execution_count": null,
   "id": "5855c2b9",
   "metadata": {},
   "outputs": [],
   "source": [
    "#Question 1\n",
    "# Find a feature with missing values. How many missing values does it have?\n",
    "\n",
    "# The only feature with missing values is 'total_bedrooms';\n",
    "# it counts 207 missing values\n",
    "\n",
    "#We have to keep this in mind when we train our model (!!!)"
   ]
  },
  {
   "cell_type": "code",
   "execution_count": 14,
   "id": "d110839b",
   "metadata": {},
   "outputs": [
    {
     "data": {
      "text/plain": [
       "longitude               0\n",
       "latitude                0\n",
       "housing_median_age      0\n",
       "total_rooms             0\n",
       "total_bedrooms        207\n",
       "population              0\n",
       "households              0\n",
       "median_income           0\n",
       "median_house_value      0\n",
       "ocean_proximity         0\n",
       "dtype: int64"
      ]
     },
     "execution_count": 14,
     "metadata": {},
     "output_type": "execute_result"
    }
   ],
   "source": [
    "#Missing values\n",
    "df.isnull().sum()"
   ]
  },
  {
   "cell_type": "code",
   "execution_count": 55,
   "id": "0df5da06",
   "metadata": {},
   "outputs": [
    {
     "data": {
      "text/plain": [
       "0      9\n",
       "207    1\n",
       "dtype: int64"
      ]
     },
     "execution_count": 55,
     "metadata": {},
     "output_type": "execute_result"
    }
   ],
   "source": [
    "# There is only one feature with missing values in dataframe\n",
    "missing_values_df = df.isnull().sum().value_counts()\n",
    "missing_values_df"
   ]
  },
  {
   "cell_type": "code",
   "execution_count": 59,
   "id": "a80c8502",
   "metadata": {},
   "outputs": [
    {
     "data": {
      "text/plain": [
       "207"
      ]
     },
     "execution_count": 59,
     "metadata": {},
     "output_type": "execute_result"
    }
   ],
   "source": [
    "# and it counts 207 missing values\n",
    "df.isnull().sum().sum(axis=0)"
   ]
  },
  {
   "cell_type": "code",
   "execution_count": null,
   "id": "69a96d96",
   "metadata": {},
   "outputs": [],
   "source": []
  },
  {
   "cell_type": "code",
   "execution_count": 61,
   "id": "d0c68473",
   "metadata": {},
   "outputs": [
    {
     "data": {
      "text/plain": [
       "1166.0"
      ]
     },
     "execution_count": 61,
     "metadata": {},
     "output_type": "execute_result"
    }
   ],
   "source": [
    "#Question 2\n",
    "# What's the median (50% percentile) for variable 'population'?\n",
    "df.population.median()"
   ]
  },
  {
   "cell_type": "code",
   "execution_count": 68,
   "id": "279d0c9a",
   "metadata": {},
   "outputs": [
    {
     "data": {
      "text/plain": [
       "1166.0"
      ]
     },
     "execution_count": 68,
     "metadata": {},
     "output_type": "execute_result"
    }
   ],
   "source": [
    "df.describe(percentiles=[.0, .25, .5, 0.75, .9, 0.95, .99, .1]).T.loc['population', '50%']"
   ]
  },
  {
   "cell_type": "code",
   "execution_count": 81,
   "id": "6c5ad3f4",
   "metadata": {},
   "outputs": [
    {
     "data": {
      "text/html": [
       "<div>\n",
       "<style scoped>\n",
       "    .dataframe tbody tr th:only-of-type {\n",
       "        vertical-align: middle;\n",
       "    }\n",
       "\n",
       "    .dataframe tbody tr th {\n",
       "        vertical-align: top;\n",
       "    }\n",
       "\n",
       "    .dataframe thead th {\n",
       "        text-align: right;\n",
       "    }\n",
       "</style>\n",
       "<table border=\"1\" class=\"dataframe\">\n",
       "  <thead>\n",
       "    <tr style=\"text-align: right;\">\n",
       "      <th></th>\n",
       "      <th>50%</th>\n",
       "    </tr>\n",
       "  </thead>\n",
       "  <tbody>\n",
       "    <tr>\n",
       "      <th>population</th>\n",
       "      <td>1166.0</td>\n",
       "    </tr>\n",
       "  </tbody>\n",
       "</table>\n",
       "</div>"
      ],
      "text/plain": [
       "               50%\n",
       "population  1166.0"
      ]
     },
     "execution_count": 81,
     "metadata": {},
     "output_type": "execute_result"
    }
   ],
   "source": [
    "df.describe(percentiles=[.0, .25, .5, 0.75, .9, 0.95, .99, .1]).T.loc[['population'], ['50%']]"
   ]
  },
  {
   "cell_type": "code",
   "execution_count": null,
   "id": "ad3deadb",
   "metadata": {},
   "outputs": [],
   "source": []
  },
  {
   "cell_type": "code",
   "execution_count": 82,
   "id": "e922a98d",
   "metadata": {},
   "outputs": [],
   "source": [
    "#since in the next steps we do not need the 'ocean proximity' column, we will remove it from our dataframe\n",
    "del df['ocean_proximity']"
   ]
  },
  {
   "cell_type": "code",
   "execution_count": 85,
   "id": "1b5875cf",
   "metadata": {},
   "outputs": [
    {
     "data": {
      "text/plain": [
       "['longitude',\n",
       " 'latitude',\n",
       " 'housing_median_age',\n",
       " 'total_rooms',\n",
       " 'total_bedrooms',\n",
       " 'population',\n",
       " 'households',\n",
       " 'median_income',\n",
       " 'median_house_value']"
      ]
     },
     "execution_count": 85,
     "metadata": {},
     "output_type": "execute_result"
    }
   ],
   "source": [
    "list(df.columns.values)"
   ]
  },
  {
   "cell_type": "code",
   "execution_count": null,
   "id": "7591826a",
   "metadata": {},
   "outputs": [],
   "source": []
  },
  {
   "cell_type": "code",
   "execution_count": null,
   "id": "10b7628a",
   "metadata": {},
   "outputs": [],
   "source": [
    "2. Settng up the validation framework"
   ]
  },
  {
   "cell_type": "code",
   "execution_count": 86,
   "id": "c18a9532",
   "metadata": {},
   "outputs": [
    {
     "data": {
      "text/plain": [
       "20640"
      ]
     },
     "execution_count": 86,
     "metadata": {},
     "output_type": "execute_result"
    }
   ],
   "source": [
    "#the whole amount of entries\n",
    "n = len(df)\n",
    "n"
   ]
  },
  {
   "cell_type": "code",
   "execution_count": 87,
   "id": "2c59b4d8",
   "metadata": {},
   "outputs": [
    {
     "data": {
      "text/plain": [
       "4128"
      ]
     },
     "execution_count": 87,
     "metadata": {},
     "output_type": "execute_result"
    }
   ],
   "source": [
    "#the size of validation dataset\n",
    "n_val = int(n * .2)\n",
    "n_val"
   ]
  },
  {
   "cell_type": "code",
   "execution_count": 88,
   "id": "a191d16a",
   "metadata": {},
   "outputs": [
    {
     "data": {
      "text/plain": [
       "4128"
      ]
     },
     "execution_count": 88,
     "metadata": {},
     "output_type": "execute_result"
    }
   ],
   "source": [
    "#the size of test dataset\n",
    "n_test = int(n * .2)\n",
    "n_test"
   ]
  },
  {
   "cell_type": "code",
   "execution_count": 89,
   "id": "8e9fb990",
   "metadata": {},
   "outputs": [
    {
     "data": {
      "text/plain": [
       "12384"
      ]
     },
     "execution_count": 89,
     "metadata": {},
     "output_type": "execute_result"
    }
   ],
   "source": [
    "#the size of train dataset\n",
    "n_train = n - n_val - n_test\n",
    "n_train"
   ]
  },
  {
   "cell_type": "code",
   "execution_count": 90,
   "id": "e2bf6b5e",
   "metadata": {},
   "outputs": [
    {
     "data": {
      "text/plain": [
       "(12384, 4128, 4128)"
      ]
     },
     "execution_count": 90,
     "metadata": {},
     "output_type": "execute_result"
    }
   ],
   "source": [
    "n_train, n_val, n_test"
   ]
  },
  {
   "cell_type": "code",
   "execution_count": 133,
   "id": "3cc0af9c",
   "metadata": {},
   "outputs": [
    {
     "data": {
      "text/plain": [
       "array([    0,     1,     2, ..., 20637, 20638, 20639])"
      ]
     },
     "execution_count": 133,
     "metadata": {},
     "output_type": "execute_result"
    }
   ],
   "source": [
    "#generate a sequence from 1 to (n-1)\n",
    "idx = np.arange(n)\n",
    "idx"
   ]
  },
  {
   "cell_type": "code",
   "execution_count": 134,
   "id": "462f5e8c",
   "metadata": {},
   "outputs": [
    {
     "data": {
      "text/plain": [
       "array([20046,  3024, 15663, ...,  5390,   860, 15795])"
      ]
     },
     "execution_count": 134,
     "metadata": {},
     "output_type": "execute_result"
    }
   ],
   "source": [
    "#shuffle indexes 'idx'\n",
    "# notice that it ain't needed to assign shuffled values to 'idx'\n",
    "# because np.random.shuffle(idx) rearranges idx-values automatically\n",
    "\n",
    "# and another thing should be mentioned:\n",
    "# to make results reproducible we should use seed() function\n",
    "np.random.seed(42)\n",
    "\n",
    "np.random.shuffle(idx)\n",
    "idx"
   ]
  },
  {
   "cell_type": "code",
   "execution_count": 186,
   "id": "837aaf71",
   "metadata": {},
   "outputs": [],
   "source": [
    "#now we create train dataframe applying shuffled indexes 'idx'\n",
    "df_train = df.iloc[idx[:n_train]]"
   ]
  },
  {
   "cell_type": "code",
   "execution_count": 187,
   "id": "20dd5d26",
   "metadata": {},
   "outputs": [],
   "source": [
    "#now we create validation dataframe applying shuffled indexes 'idx'\n",
    "df_val = df.iloc[idx[n_train:n_train+n_val]]"
   ]
  },
  {
   "cell_type": "code",
   "execution_count": 188,
   "id": "9bb388ee",
   "metadata": {},
   "outputs": [],
   "source": [
    "#now we create test dataframe applying shuffled indexes 'idx'\n",
    "df_test = df.iloc[idx[n_train+n_val:]]"
   ]
  },
  {
   "cell_type": "code",
   "execution_count": 189,
   "id": "cc7ba475",
   "metadata": {},
   "outputs": [
    {
     "data": {
      "text/plain": [
       "(12384, 4128, 4128)"
      ]
     },
     "execution_count": 189,
     "metadata": {},
     "output_type": "execute_result"
    }
   ],
   "source": [
    "len(df_train), len(df_val), len(df_test)"
   ]
  },
  {
   "cell_type": "code",
   "execution_count": 190,
   "id": "69b31ba6",
   "metadata": {},
   "outputs": [],
   "source": [
    "#resetting indexes\n",
    "df_train = df_train.reset_index(drop=True)\n",
    "df_val = df_val.reset_index(drop=True)\n",
    "df_test = df_test.reset_index(drop=True)"
   ]
  },
  {
   "cell_type": "code",
   "execution_count": 191,
   "id": "d3244257",
   "metadata": {},
   "outputs": [
    {
     "data": {
      "text/plain": [
       "0         47700.0\n",
       "1         45800.0\n",
       "2        500001.0\n",
       "3        218600.0\n",
       "4        278000.0\n",
       "           ...   \n",
       "12379    461300.0\n",
       "12380    205800.0\n",
       "12381    146800.0\n",
       "12382    151800.0\n",
       "12383    420300.0\n",
       "Name: median_house_value, Length: 12384, dtype: float64"
      ]
     },
     "execution_count": 191,
     "metadata": {},
     "output_type": "execute_result"
    }
   ],
   "source": [
    "df_train.median_house_value"
   ]
  },
  {
   "cell_type": "code",
   "execution_count": 192,
   "id": "0283548a",
   "metadata": {},
   "outputs": [
    {
     "data": {
      "text/plain": [
       "array([ 47700.,  45800., 500001., ..., 146800., 151800., 420300.])"
      ]
     },
     "execution_count": 192,
     "metadata": {},
     "output_type": "execute_result"
    }
   ],
   "source": [
    "df_train.median_house_value.values"
   ]
  },
  {
   "cell_type": "code",
   "execution_count": 193,
   "id": "fe928244",
   "metadata": {},
   "outputs": [
    {
     "data": {
      "text/plain": [
       "0        10.772708\n",
       "1        10.732061\n",
       "2        13.122367\n",
       "3        12.295003\n",
       "4        12.535380\n",
       "           ...    \n",
       "12379    13.041806\n",
       "12380    12.234665\n",
       "12381    11.896833\n",
       "12382    11.930326\n",
       "12383    12.948726\n",
       "Name: median_house_value, Length: 12384, dtype: float64"
      ]
     },
     "execution_count": 193,
     "metadata": {},
     "output_type": "execute_result"
    }
   ],
   "source": [
    "# the applying of logarithmic function allows to operate smaller values instead of larger ones\n",
    "# BUT IN A CASE OF USING LOGARITHMIC FUNCTION we need to except Zero values to avoid errors while executing the code\n",
    "# so keeping this in mind we can simply add 1 to the value in each field\n",
    "\n",
    "# applying logarithmic function to 'median_house_value'\n",
    "np.log1p(df_train.median_house_value)"
   ]
  },
  {
   "cell_type": "code",
   "execution_count": 194,
   "id": "b347071b",
   "metadata": {},
   "outputs": [
    {
     "data": {
      "text/plain": [
       "array([10.77270764, 10.7320612 , 13.12236738, ..., 11.89683321,\n",
       "       11.93032573, 12.9487264 ])"
      ]
     },
     "execution_count": 194,
     "metadata": {},
     "output_type": "execute_result"
    }
   ],
   "source": [
    "#and instead of pandas.series we can immediately get np.array\n",
    "np.log1p(df_train.median_house_value.values)"
   ]
  },
  {
   "cell_type": "code",
   "execution_count": 195,
   "id": "9443e384",
   "metadata": {},
   "outputs": [],
   "source": [
    "y_train = np.log1p(df_train.median_house_value.values)\n",
    "y_val = np.log1p(df_val.median_house_value.values)\n",
    "y_test = np.log1p(df_test.median_house_value.values)"
   ]
  },
  {
   "cell_type": "code",
   "execution_count": 196,
   "id": "7abb055a",
   "metadata": {},
   "outputs": [],
   "source": [
    "#now we'll remove 'median_house_value' column from our datasets\n",
    "del df_train['median_house_value']\n",
    "del df_val['median_house_value']\n",
    "del df_test['median_house_value']"
   ]
  },
  {
   "cell_type": "code",
   "execution_count": 197,
   "id": "07c14603",
   "metadata": {},
   "outputs": [
    {
     "data": {
      "text/plain": [
       "(12384, 4128, 4128)"
      ]
     },
     "execution_count": 197,
     "metadata": {},
     "output_type": "execute_result"
    }
   ],
   "source": [
    "len(y_train), len(y_val), len(y_test)"
   ]
  },
  {
   "cell_type": "code",
   "execution_count": null,
   "id": "dd5532f9",
   "metadata": {},
   "outputs": [],
   "source": []
  },
  {
   "cell_type": "code",
   "execution_count": null,
   "id": "5d104e5b",
   "metadata": {},
   "outputs": [],
   "source": [
    "#Question 3\n",
    "\n",
    "# We need to deal with missing values for the column from Q1.\n",
    "# We have two options: fill it with 0 or with the mean of this variable.\n",
    "# Try both options. For each, train a linear regression model without regularization using the code from the lessons.\n",
    "# For computing the mean, use the training only!\n",
    "# Use the validation dataset to evaluate the models and compare the RMSE of each option.\n",
    "# Round the RMSE scores to 2 decimal digits using round(score, 2)\n",
    "# Which option gives better RMSE?\n"
   ]
  },
  {
   "cell_type": "code",
   "execution_count": 147,
   "id": "2069a431",
   "metadata": {},
   "outputs": [
    {
     "data": {
      "text/plain": [
       "longitude             float64\n",
       "latitude              float64\n",
       "housing_median_age    float64\n",
       "total_rooms           float64\n",
       "total_bedrooms        float64\n",
       "population            float64\n",
       "households            float64\n",
       "median_income         float64\n",
       "dtype: object"
      ]
     },
     "execution_count": 147,
     "metadata": {},
     "output_type": "execute_result"
    }
   ],
   "source": [
    "#forming baseline model for prediction\n",
    "df_train.dtypes"
   ]
  },
  {
   "cell_type": "code",
   "execution_count": 148,
   "id": "49172e7c",
   "metadata": {},
   "outputs": [
    {
     "data": {
      "text/plain": [
       "Index(['longitude', 'latitude', 'housing_median_age', 'total_rooms',\n",
       "       'total_bedrooms', 'population', 'households', 'median_income'],\n",
       "      dtype='object')"
      ]
     },
     "execution_count": 148,
     "metadata": {},
     "output_type": "execute_result"
    }
   ],
   "source": [
    "#For the Baseline Model we need to extract all numerical columns\n",
    "df_train.columns"
   ]
  },
  {
   "cell_type": "code",
   "execution_count": 149,
   "id": "f2130837",
   "metadata": {},
   "outputs": [
    {
     "data": {
      "text/plain": [
       "['longitude',\n",
       " 'latitude',\n",
       " 'housing_median_age',\n",
       " 'total_rooms',\n",
       " 'total_bedrooms',\n",
       " 'population',\n",
       " 'households',\n",
       " 'median_income']"
      ]
     },
     "execution_count": 149,
     "metadata": {},
     "output_type": "execute_result"
    }
   ],
   "source": [
    "#getting basic features\n",
    "base = df_train.columns.to_list()\n",
    "base"
   ]
  },
  {
   "cell_type": "code",
   "execution_count": 151,
   "id": "c3bdece5",
   "metadata": {},
   "outputs": [
    {
     "data": {
      "text/plain": [
       "longitude               0\n",
       "latitude                0\n",
       "housing_median_age      0\n",
       "total_rooms             0\n",
       "total_bedrooms        207\n",
       "population              0\n",
       "households              0\n",
       "median_income           0\n",
       "dtype: int64"
      ]
     },
     "execution_count": 151,
     "metadata": {},
     "output_type": "execute_result"
    }
   ],
   "source": [
    "#check if there are 'NaN' values in 'df_train' dataframe\n",
    "df_train[base].isnull().sum()"
   ]
  },
  {
   "cell_type": "code",
   "execution_count": null,
   "id": "46f65261",
   "metadata": {},
   "outputs": [],
   "source": [
    "#use RMSE to Evaluate how good is Regression model\n",
    "def rmse(y, y_pred):\n",
    "    error = y - y_pred\n",
    "    se = error ** 2\n",
    "    mse = se.mean()\n",
    "        \n",
    "    return np.sqrt(mse)"
   ]
  },
  {
   "cell_type": "code",
   "execution_count": null,
   "id": "f657878b",
   "metadata": {},
   "outputs": [],
   "source": [
    "# train Linear Regression Function\n",
    "def train_linear_regression(X, y):\n",
    "    ones = np.ones(X.shape[0])\n",
    "    X = np.column_stack([ones, X])\n",
    "    \n",
    "    #normal equation\n",
    "    XTX = X.T.dot(X)\n",
    "    XTX_inv = np.linalg.inv(XTX)\n",
    "    w_full = XTX_inv.dot(X.T).dot(y)\n",
    "    \n",
    "    return w_full[0], w_full[1:]"
   ]
  },
  {
   "cell_type": "code",
   "execution_count": null,
   "id": "06a784f4",
   "metadata": {},
   "outputs": [],
   "source": [
    "3.1 Linear Regression with no Regularization using 'df.fillna(0)' method"
   ]
  },
  {
   "cell_type": "code",
   "execution_count": 155,
   "id": "bd035fb1",
   "metadata": {},
   "outputs": [],
   "source": [
    "def prepare_X(df):\n",
    "    df_num = df[base]\n",
    "    df_num = df_num.fillna(0)\n",
    "    X = df_num.values\n",
    "    \n",
    "    return X"
   ]
  },
  {
   "cell_type": "code",
   "execution_count": 156,
   "id": "5559258e",
   "metadata": {},
   "outputs": [
    {
     "data": {
      "text/plain": [
       "0.3295330365225461"
      ]
     },
     "execution_count": 156,
     "metadata": {},
     "output_type": "execute_result"
    }
   ],
   "source": [
    "X_train = prepare_X(df_train)\n",
    "w0, w = train_linear_regression(X_train, y_train) #training\n",
    "\n",
    "X_val = prepare_X(df_val)                         #validating\n",
    "y_pred = w0 + X_val.dot(w)\n",
    "score = rmse(y_val, y_pred)\n",
    "score"
   ]
  },
  {
   "cell_type": "code",
   "execution_count": 157,
   "id": "7e7d2e98",
   "metadata": {},
   "outputs": [
    {
     "data": {
      "text/plain": [
       "0.33"
      ]
     },
     "execution_count": 157,
     "metadata": {},
     "output_type": "execute_result"
    }
   ],
   "source": [
    "round(score, 2)"
   ]
  },
  {
   "cell_type": "code",
   "execution_count": null,
   "id": "05a40f07",
   "metadata": {},
   "outputs": [],
   "source": []
  },
  {
   "cell_type": "code",
   "execution_count": null,
   "id": "712552dc",
   "metadata": {},
   "outputs": [],
   "source": [
    "3.2 Linear Regression with no Regularization using 'df.fillna(mean)' method"
   ]
  },
  {
   "cell_type": "code",
   "execution_count": 159,
   "id": "e2714a83",
   "metadata": {},
   "outputs": [],
   "source": [
    "#using 'df.fillna(mean)' method\n",
    "# For computing the mean, use the training only (!!!)\n",
    "def prepare_X(df):\n",
    "    df_num = df[base]\n",
    "    df_num = df_num.fillna(df_train[base].mean())\n",
    "    X = df_num.values\n",
    "    \n",
    "    return X"
   ]
  },
  {
   "cell_type": "code",
   "execution_count": 160,
   "id": "2130ee52",
   "metadata": {},
   "outputs": [
    {
     "data": {
      "text/plain": [
       "0.3290195439006594"
      ]
     },
     "execution_count": 160,
     "metadata": {},
     "output_type": "execute_result"
    }
   ],
   "source": [
    "X_train = prepare_X(df_train)\n",
    "w0, w = train_linear_regression(X_train, y_train) #training\n",
    "\n",
    "X_val = prepare_X(df_val)                         #validating\n",
    "y_pred = w0 + X_val.dot(w)\n",
    "score = rmse(y_val, y_pred)\n",
    "score"
   ]
  },
  {
   "cell_type": "code",
   "execution_count": 161,
   "id": "61bf2c3f",
   "metadata": {},
   "outputs": [
    {
     "data": {
      "text/plain": [
       "0.33"
      ]
     },
     "execution_count": 161,
     "metadata": {},
     "output_type": "execute_result"
    }
   ],
   "source": [
    "round(score, 2)"
   ]
  },
  {
   "cell_type": "code",
   "execution_count": 162,
   "id": "4424d779",
   "metadata": {},
   "outputs": [],
   "source": [
    "#ANSWER for Question №3\n",
    "\n",
    "# After the validation of trained model on the validation dataset\n",
    "# having compared the RMSE for each option we can conclude that both options are equally good "
   ]
  },
  {
   "cell_type": "code",
   "execution_count": null,
   "id": "221d1b8a",
   "metadata": {},
   "outputs": [],
   "source": []
  },
  {
   "cell_type": "code",
   "execution_count": 163,
   "id": "f7adaec3",
   "metadata": {},
   "outputs": [],
   "source": [
    "#Question 4\n",
    "\n",
    "# Now let's train a regularized linear regression.\n",
    "# For this question, fill the NAs with 0.\n",
    "# Try different values of r from this list: [0, 0.000001, 0.0001, 0.001, 0.01, 0.1, 1, 5, 10].\n",
    "# Use RMSE to evaluate the model on the validation dataset.\n",
    "# Round the RMSE scores to 2 decimal digits.\n",
    "# Which r gives the best RMSE?\n",
    "\n",
    "# If there are multiple options, select the smallest r (!!!)"
   ]
  },
  {
   "cell_type": "code",
   "execution_count": null,
   "id": "80ee1593",
   "metadata": {},
   "outputs": [],
   "source": [
    "4. Linear Regression with Regularization using 'df.fillna(0)' method"
   ]
  },
  {
   "cell_type": "code",
   "execution_count": 164,
   "id": "1329a5e1",
   "metadata": {},
   "outputs": [],
   "source": [
    "# Training Linear Regression Function with Regularization\n",
    "def train_linear_regression_reg(X, y, r=0.001):   #where '0.001' is the default value\n",
    "    ones = np.ones(X.shape[0])\n",
    "    X = np.column_stack([ones, X])\n",
    "    \n",
    "    #normal equation\n",
    "    XTX = X.T.dot(X)\n",
    "    \n",
    "    XTX = XTX + r * np.eye(XTX.shape[0])          #regularization\n",
    "    \n",
    "    XTX_inv = np.linalg.inv(XTX)\n",
    "    w_full = XTX_inv.dot(X.T).dot(y)\n",
    "    \n",
    "    return w_full[0], w_full[1:]"
   ]
  },
  {
   "cell_type": "code",
   "execution_count": 165,
   "id": "47300903",
   "metadata": {},
   "outputs": [],
   "source": [
    "def prepare_X(df):\n",
    "    df_num = df[base]\n",
    "    df_num = df_num.fillna(0)\n",
    "    X = df_num.values\n",
    "    \n",
    "    return X"
   ]
  },
  {
   "cell_type": "code",
   "execution_count": 166,
   "id": "ef24e0f9",
   "metadata": {},
   "outputs": [
    {
     "data": {
      "text/plain": [
       "0.3295319365991787"
      ]
     },
     "execution_count": 166,
     "metadata": {},
     "output_type": "execute_result"
    }
   ],
   "source": [
    "X_train = prepare_X(df_train)\n",
    "w0, w = train_linear_regression_reg(X_train, y_train, r=0.01) #training\n",
    "\n",
    "X_val = prepare_X(df_val)                        #validating\n",
    "y_pred = w0 + X_val.dot(w)\n",
    "rmse(y_val, y_pred)"
   ]
  },
  {
   "cell_type": "code",
   "execution_count": 167,
   "id": "9e215179",
   "metadata": {},
   "outputs": [],
   "source": [
    "# TUNING THE MODEL\n",
    "\n",
    "#we need now to find the optimal value for regullarization parameter\n",
    "# and for this purpose we'll use the validation dataset"
   ]
  },
  {
   "cell_type": "code",
   "execution_count": 168,
   "id": "9c2bc987",
   "metadata": {},
   "outputs": [
    {
     "name": "stdout",
     "output_type": "stream",
     "text": [
      "for r=0: \n",
      "w0 = -11.686975241722367 \n",
      "and the score is: 0.33 \n",
      "\n",
      "for r=1e-06: \n",
      "w0 = -11.686959175597698 \n",
      "and the score is: 0.33 \n",
      "\n",
      "for r=0.0001: \n",
      "w0 = -11.685368865326225 \n",
      "and the score is: 0.33 \n",
      "\n",
      "for r=0.001: \n",
      "w0 = -11.670931317790998 \n",
      "and the score is: 0.33 \n",
      "\n",
      "for r=0.01: \n",
      "w0 = -11.528493585934847 \n",
      "and the score is: 0.33 \n",
      "\n",
      "for r=0.1: \n",
      "w0 = -10.27450028213499 \n",
      "and the score is: 0.33 \n",
      "\n",
      "for r=1: \n",
      "w0 = -4.920480897663232 \n",
      "and the score is: 0.33 \n",
      "\n",
      "for r=5: \n",
      "w0 = -1.4820957456380226 \n",
      "and the score is: 0.34 \n",
      "\n",
      "for r=10: \n",
      "w0 = -0.7899311832160492 \n",
      "and the score is: 0.34 \n",
      "\n"
     ]
    }
   ],
   "source": [
    "for r in [0, 0.000001, 0.0001, 0.001, 0.01, 0.1, 1, 5, 10]:\n",
    "    X_train = prepare_X(df_train)\n",
    "    w0, w = train_linear_regression_reg(X_train, y_train, r=r) #training\n",
    "\n",
    "    X_val = prepare_X(df_val)                        #validating\n",
    "    y_pred = w0 + X_val.dot(w)\n",
    "    \n",
    "    score = rmse(y_val, y_pred).round(2)\n",
    "    print('for r=%s:' % r, '\\nw0 =', w0,'\\nand the score is:', score, '\\n')"
   ]
  },
  {
   "cell_type": "code",
   "execution_count": null,
   "id": "f7ea2063",
   "metadata": {},
   "outputs": [],
   "source": [
    "#ANSWER for Question №4\n",
    "\n",
    "#    Which r gives the best RMSE?\n",
    "#   (If there are multiple options, select the smallest r)\n",
    "\n",
    "# ANSWER: r=0"
   ]
  },
  {
   "cell_type": "code",
   "execution_count": null,
   "id": "056f076c",
   "metadata": {},
   "outputs": [],
   "source": []
  },
  {
   "cell_type": "code",
   "execution_count": null,
   "id": "7fc6778c",
   "metadata": {},
   "outputs": [],
   "source": []
  },
  {
   "cell_type": "code",
   "execution_count": 169,
   "id": "b637f022",
   "metadata": {},
   "outputs": [],
   "source": [
    "#Question 5\n",
    "\n",
    "# We used seed 42 for splitting the data. Let's find out how selecting the seed influences our score.\n",
    "# Try different seed values: [0, 1, 2, 3, 4, 5, 6, 7, 8, 9].\n",
    "# For each seed, do the train/validation/test split with 60%/20%/20% distribution.\n",
    "# Fill the missing values with 0 and train a model without regularization.\n",
    "# For each seed, evaluate the model on the validation dataset and collect the RMSE scores.\n",
    "# What's the standard deviation of all the scores? To compute the standard deviation, use np.std.\n",
    "# Round the result to 3 decimal digits (round(std, 3))\n",
    "\n",
    "# Note (!!!):\n",
    "#  Standard deviation shows how different the values are.\n",
    "#  If it's low, then all values are approximately the same.\n",
    "#  If it's high, the values are different.\n",
    "#  If standard deviation of scores is low, then our model is stable."
   ]
  },
  {
   "cell_type": "code",
   "execution_count": 170,
   "id": "56ecdfac",
   "metadata": {},
   "outputs": [],
   "source": [
    "# Let's find out how selecting the seed influences our score\n",
    "# we'll try different seed values: [0, 1, 2, 3, 4, 5, 6, 7, 8, 9]"
   ]
  },
  {
   "cell_type": "code",
   "execution_count": 198,
   "id": "9c01bbb4",
   "metadata": {},
   "outputs": [
    {
     "data": {
      "text/plain": [
       "array([20046,  3024, 15663, ...,  5390,   860, 15795])"
      ]
     },
     "execution_count": 198,
     "metadata": {},
     "output_type": "execute_result"
    }
   ],
   "source": [
    "idx"
   ]
  },
  {
   "cell_type": "code",
   "execution_count": 199,
   "id": "018231af",
   "metadata": {},
   "outputs": [
    {
     "data": {
      "text/plain": [
       "array([    0,     1,     2, ..., 20637, 20638, 20639])"
      ]
     },
     "execution_count": 199,
     "metadata": {},
     "output_type": "execute_result"
    }
   ],
   "source": [
    "#generate a sequence from 1 to (n-1)\n",
    "idx = np.arange(n)\n",
    "idx"
   ]
  },
  {
   "cell_type": "code",
   "execution_count": 200,
   "id": "9169ec47",
   "metadata": {},
   "outputs": [
    {
     "data": {
      "text/plain": [
       "array([20046,  3024, 15663, ...,  5390,   860, 15795])"
      ]
     },
     "execution_count": 200,
     "metadata": {},
     "output_type": "execute_result"
    }
   ],
   "source": [
    "#shuffle indexes 'idx'\n",
    "# notice that it ain't needed to assign shuffled values to 'idx'\n",
    "# because np.random.shuffle(idx) rearranges idx-values automatically\n",
    "\n",
    "# and another thing should be mentioned:\n",
    "# to make results reproducible we should use seed() function\n",
    "np.random.seed(42)\n",
    "\n",
    "np.random.shuffle(idx)\n",
    "idx"
   ]
  },
  {
   "cell_type": "code",
   "execution_count": 212,
   "id": "89b35c57",
   "metadata": {},
   "outputs": [],
   "source": [
    "df_train = df.iloc[idx[:n_train]].reset_index(drop=True)\n",
    "df_val = df.iloc[idx[n_train:n_train+n_val]].reset_index(drop=True)\n",
    "df_test = df.iloc[idx[n_train+n_val:]].reset_index(drop=True)"
   ]
  },
  {
   "cell_type": "code",
   "execution_count": 213,
   "id": "ab8c7984",
   "metadata": {},
   "outputs": [],
   "source": [
    "y_train = np.log1p(df_train.median_house_value.values)\n",
    "y_val = np.log1p(df_val.median_house_value.values)\n",
    "y_test = np.log1p(df_test.median_house_value.values)"
   ]
  },
  {
   "cell_type": "code",
   "execution_count": 214,
   "id": "2579df8a",
   "metadata": {},
   "outputs": [],
   "source": [
    "#now we'll remove 'median_house_value' column from our datasets\n",
    "del df_train['median_house_value']\n",
    "del df_val['median_house_value']\n",
    "del df_test['median_house_value']"
   ]
  },
  {
   "cell_type": "code",
   "execution_count": 206,
   "id": "7d40f423",
   "metadata": {},
   "outputs": [],
   "source": [
    "def prepare_X(df):\n",
    "    df_num = df[base]\n",
    "    df_num = df_num.fillna(0)\n",
    "    X = df_num.values\n",
    "    \n",
    "    return X"
   ]
  },
  {
   "cell_type": "code",
   "execution_count": 209,
   "id": "51a6b289",
   "metadata": {},
   "outputs": [
    {
     "name": "stdout",
     "output_type": "stream",
     "text": [
      "for seed=0: \n",
      "w0 = -11.900382138194047 \n",
      "and the score is: 0.3388430480531453 \n",
      "scores: [0.3388430480531453] \n",
      "\n",
      "for seed=1: \n",
      "w0 = -11.732757373039586 \n",
      "and the score is: 0.3362387255956947 \n",
      "scores: [0.3388430480531453, 0.3362387255956947] \n",
      "\n",
      "for seed=2: \n",
      "w0 = -11.806729361139615 \n",
      "and the score is: 0.33209123188261924 \n",
      "scores: [0.3388430480531453, 0.3362387255956947, 0.33209123188261924] \n",
      "\n",
      "for seed=3: \n",
      "w0 = -11.587900347723947 \n",
      "and the score is: 0.3405153609036206 \n",
      "scores: [0.3388430480531453, 0.3362387255956947, 0.33209123188261924, 0.3405153609036206] \n",
      "\n",
      "for seed=4: \n",
      "w0 = -11.389470587989573 \n",
      "and the score is: 0.33890240665740773 \n",
      "scores: [0.3388430480531453, 0.3362387255956947, 0.33209123188261924, 0.3405153609036206, 0.33890240665740773] \n",
      "\n",
      "for seed=5: \n",
      "w0 = -11.447114275943875 \n",
      "and the score is: 0.343486672571847 \n",
      "scores: [0.3388430480531453, 0.3362387255956947, 0.33209123188261924, 0.3405153609036206, 0.33890240665740773, 0.343486672571847] \n",
      "\n",
      "for seed=6: \n",
      "w0 = -11.370516351454182 \n",
      "and the score is: 0.3451980953099756 \n",
      "scores: [0.3388430480531453, 0.3362387255956947, 0.33209123188261924, 0.3405153609036206, 0.33890240665740773, 0.343486672571847, 0.3451980953099756] \n",
      "\n",
      "for seed=7: \n",
      "w0 = -12.473448919244817 \n",
      "and the score is: 0.3395989927411572 \n",
      "scores: [0.3388430480531453, 0.3362387255956947, 0.33209123188261924, 0.3405153609036206, 0.33890240665740773, 0.343486672571847, 0.3451980953099756, 0.3395989927411572] \n",
      "\n",
      "for seed=8: \n",
      "w0 = -11.800287429608886 \n",
      "and the score is: 0.34662308731912117 \n",
      "scores: [0.3388430480531453, 0.3362387255956947, 0.33209123188261924, 0.3405153609036206, 0.33890240665740773, 0.343486672571847, 0.3451980953099756, 0.3395989927411572, 0.34662308731912117] \n",
      "\n",
      "for seed=9: \n",
      "w0 = -11.459046830679359 \n",
      "and the score is: 0.3365926124150145 \n",
      "scores: [0.3388430480531453, 0.3362387255956947, 0.33209123188261924, 0.3405153609036206, 0.33890240665740773, 0.343486672571847, 0.3451980953099756, 0.3395989927411572, 0.34662308731912117, 0.3365926124150145] \n",
      "\n"
     ]
    }
   ],
   "source": [
    "scores = []\n",
    "for s in [0, 1, 2, 3, 4, 5, 6, 7, 8, 9]:\n",
    "    idx = np.arange(n)\n",
    "    np.random.seed(s)\n",
    "    np.random.shuffle(idx)\n",
    "    \n",
    "    df_train = df.iloc[idx[:n_train]].reset_index(drop=True).copy()\n",
    "    df_val = df.iloc[idx[n_train:n_train+n_val]].reset_index(drop=True).copy()\n",
    "    df_test = df.iloc[idx[n_train+n_val:]].reset_index(drop=True).copy()\n",
    "    \n",
    "    y_train = np.log1p(df_train.median_house_value.values)\n",
    "    y_val = np.log1p(df_val.median_house_value.values)\n",
    "    y_test = np.log1p(df_test.median_house_value.values)\n",
    "    \n",
    "    #now we'll remove 'median_house_value' column from our datasets\n",
    "    del df_train['median_house_value']\n",
    "    del df_val['median_house_value']\n",
    "    del df_test['median_house_value']\n",
    "    \n",
    "    X_train = prepare_X(df_train)\n",
    "    w0, w = train_linear_regression_reg(X_train, y_train, r=0) #training\n",
    "\n",
    "    X_val = prepare_X(df_val)                        #validating\n",
    "    y_pred = w0 + X_val.dot(w)\n",
    "    \n",
    "    score = rmse(y_val, y_pred)\n",
    "    scores.append(score)\n",
    "    print('for seed=%s:' % s, '\\nw0 =', w0, '\\nand the score is:', score, '\\nscores:', scores, '\\n')"
   ]
  },
  {
   "cell_type": "code",
   "execution_count": 210,
   "id": "4c286acf",
   "metadata": {},
   "outputs": [
    {
     "data": {
      "text/plain": [
       "0.004170771947167763"
      ]
     },
     "execution_count": 210,
     "metadata": {},
     "output_type": "execute_result"
    }
   ],
   "source": [
    "#Note: Standard deviation shows how different the values are\n",
    "# If it's low, then all values are approximately the same\n",
    "# If it's high, the values are different\n",
    "\n",
    "# If standard deviation of scores is low, then our model is stable (!!!)\n",
    "np.std(scores)"
   ]
  },
  {
   "cell_type": "code",
   "execution_count": 211,
   "id": "ec08f22c",
   "metadata": {},
   "outputs": [
    {
     "data": {
      "text/plain": [
       "0.004"
      ]
     },
     "execution_count": 211,
     "metadata": {},
     "output_type": "execute_result"
    }
   ],
   "source": [
    "#Round the result to 3 decimal digits with function 'round(std, 3)'\n",
    "round(np.std(scores), 3)"
   ]
  },
  {
   "cell_type": "code",
   "execution_count": null,
   "id": "17e76f77",
   "metadata": {},
   "outputs": [],
   "source": [
    "#ANSWER for Question №5\n",
    "\n",
    "# ANSWER: 0.004"
   ]
  },
  {
   "cell_type": "code",
   "execution_count": null,
   "id": "5461b0cc",
   "metadata": {},
   "outputs": [],
   "source": []
  },
  {
   "cell_type": "code",
   "execution_count": null,
   "id": "f3e96516",
   "metadata": {},
   "outputs": [],
   "source": []
  },
  {
   "cell_type": "code",
   "execution_count": 215,
   "id": "008a87ce",
   "metadata": {},
   "outputs": [],
   "source": [
    "#Question 6\n",
    "# Split the dataset like previously, use seed 9.\n",
    "# Combine train and validation datasets.\n",
    "# Fill the missing values with 0 and train a model with r=0.001.\n",
    "# What's the RMSE on the test dataset?"
   ]
  },
  {
   "cell_type": "code",
   "execution_count": 216,
   "id": "cbea9ef5",
   "metadata": {},
   "outputs": [
    {
     "name": "stdout",
     "output_type": "stream",
     "text": [
      "for seed=9: \n",
      "w0 = -11.459046830679359 \n",
      "and the score is: 0.3365926124150145 \n",
      " [0.3365926124150145] \n",
      "\n"
     ]
    }
   ],
   "source": [
    "scores = []\n",
    "for s in [9]:\n",
    "    idx = np.arange(n)\n",
    "    np.random.seed(s)\n",
    "    np.random.shuffle(idx)\n",
    "    \n",
    "    df_train = df.iloc[idx[:n_train]].reset_index(drop=True).copy()\n",
    "    df_val = df.iloc[idx[n_train:n_train+n_val]].reset_index(drop=True).copy()\n",
    "    df_test = df.iloc[idx[n_train+n_val:]].reset_index(drop=True).copy()\n",
    "    \n",
    "    y_train = np.log1p(df_train.median_house_value.values)\n",
    "    y_val = np.log1p(df_val.median_house_value.values)\n",
    "    y_test = np.log1p(df_test.median_house_value.values)\n",
    "    \n",
    "    #now we'll remove 'median_house_value' column from our datasets\n",
    "    del df_train['median_house_value']\n",
    "    del df_val['median_house_value']\n",
    "    del df_test['median_house_value']\n",
    "    \n",
    "    X_train = prepare_X(df_train)\n",
    "    w0, w = train_linear_regression_reg(X_train, y_train, r=0) #training\n",
    "\n",
    "    X_val = prepare_X(df_val)                        #validating\n",
    "    y_pred = w0 + X_val.dot(w)\n",
    "    \n",
    "    score = rmse(y_val, y_pred)\n",
    "    scores.append(score)\n",
    "    print('for seed=%s:' % s, '\\nw0 =', w0,'\\nand the score is:', score, '\\n', scores, '\\n')"
   ]
  },
  {
   "cell_type": "code",
   "execution_count": 217,
   "id": "82f0470f",
   "metadata": {},
   "outputs": [
    {
     "name": "stdout",
     "output_type": "stream",
     "text": [
      "for seed=9: \n",
      "w0 = -11.407983344571907 \n",
      "and the score is: 0.3453168914361534 \n",
      " [0.3453168914361534] \n",
      "\n"
     ]
    }
   ],
   "source": [
    "scores = []\n",
    "for s in [9]:\n",
    "    idx = np.arange(n)\n",
    "    np.random.seed(s)\n",
    "    np.random.shuffle(idx)\n",
    "    \n",
    "    df_train = df.iloc[idx[:n_train]].reset_index(drop=True).copy()\n",
    "    df_val = df.iloc[idx[n_train:n_train+n_val]].reset_index(drop=True).copy()\n",
    "    df_test = df.iloc[idx[n_train+n_val:]].reset_index(drop=True).copy()\n",
    "          \n",
    "    y_train = np.log1p(df_train.median_house_value.values)\n",
    "    y_val = np.log1p(df_val.median_house_value.values)\n",
    "    y_test = np.log1p(df_test.median_house_value.values)\n",
    "    \n",
    "    df_train_full = pd.concat([df_train, df_val]).reset_index(drop=True)\n",
    "    y_train_full = np.concatenate([y_train, y_val])\n",
    "    \n",
    "    #now we'll remove 'median_house_value' column from our datasets\n",
    "    del df_train['median_house_value']\n",
    "    del df_val['median_house_value']\n",
    "    del df_test['median_house_value']\n",
    "    \n",
    "    del df_train_full['median_house_value']\n",
    "    \n",
    "    X_train_full = prepare_X(df_train_full)\n",
    "    w0, w = train_linear_regression_reg(X_train_full, y_train_full, r=0.001) #training\n",
    "\n",
    "    X_test = prepare_X(df_test)                        #validating\n",
    "    y_pred = w0 + X_test.dot(w)\n",
    "    \n",
    "    score = rmse(y_test, y_pred)\n",
    "    scores.append(score)\n",
    "    print('for seed=%s:' % s, '\\nw0 =', w0,'\\nand the score is:', score, '\\n', scores, '\\n')"
   ]
  },
  {
   "cell_type": "code",
   "execution_count": null,
   "id": "8eb94e71",
   "metadata": {},
   "outputs": [],
   "source": [
    "#ANSWER for Question №5\n",
    "\n",
    "# ANSWER: 0.345"
   ]
  }
 ],
 "metadata": {
  "kernelspec": {
   "display_name": "Python 3 (ipykernel)",
   "language": "python",
   "name": "python3"
  },
  "language_info": {
   "codemirror_mode": {
    "name": "ipython",
    "version": 3
   },
   "file_extension": ".py",
   "mimetype": "text/x-python",
   "name": "python",
   "nbconvert_exporter": "python",
   "pygments_lexer": "ipython3",
   "version": "3.9.7"
  }
 },
 "nbformat": 4,
 "nbformat_minor": 5
}
